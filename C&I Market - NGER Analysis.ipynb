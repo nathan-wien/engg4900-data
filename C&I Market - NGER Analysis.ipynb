{
 "cells": [
  {
   "cell_type": "code",
   "execution_count": 2,
   "id": "7b38ae08",
   "metadata": {},
   "outputs": [],
   "source": [
    "import numpy as np\n",
    "import matplotlib.pyplot as plt\n",
    "import seaborn as sns\n",
    "import pandas as pd"
   ]
  },
  {
   "cell_type": "code",
   "execution_count": 3,
   "id": "7d8be989",
   "metadata": {},
   "outputs": [],
   "source": [
    "%matplotlib inline"
   ]
  },
  {
   "cell_type": "markdown",
   "id": "cb101e27",
   "metadata": {},
   "source": [
    "# Introduction"
   ]
  },
  {
   "cell_type": "markdown",
   "id": "48a87c8b",
   "metadata": {},
   "source": [
    "The analysis is based on information from [this website](http://www.cleanenergyregulator.gov.au/NGER/Reporting-cycle). \n",
    "\n",
    "From the website: *Companies are responsible for assessing their own obligations under the  National Greenhouse and Energy Reporting Act 2007 (NGER Act). The four steps below will help you understand your obligations under the NGER scheme.*\n",
    "\n",
    "1. Assess your obligations\n",
    "You will need to consider whether your company meets a facility or corporate group threshold for scope 1 or scope 2 emissions of greenhouse gases or for energy consumption or energy production.\n",
    "\n",
    "2. Register and deregister\n",
    "If a facility or corporate group threshold is met, the controlling corporation will need to register under the NGER Scheme. In some circumstances a controlling corporation may choose to transfer reporting obligations using a Reporting Transfer Certificate or a Section 22X agreement. A registered corporation that no longer triggers reporting thresholds should apply for deregistration.\n",
    "\n",
    "3. Report\n",
    "You will then need to report through the Emissions and Energy Reporting System.\n",
    "\n",
    "4. Record keeping, monitoring and compliance\n",
    "Record keeping, monitoring and compliance are essential to ensuring the integrity of the NGER scheme and form an important part of the reporting cycle.\n",
    "\n",
    "**In short: Companies that meet the following reporting threshold has to**:\n",
    "\n",
    "* **register under the NGER scheme and report their emissions & energy consumption each year**.\n",
    "* **report their emissions & energy consumption each year**.\n",
    "* **being monitored under the NGER scheme**.\n",
    "\n",
    "For more info about the obligations of the companies, see [Complying with NGER](http://www.cleanenergyregulator.gov.au/NGER/Reporting-cycle/Complying-with-NGER).\n",
    "\n",
    "**[Reporting Threshold](http://www.cleanenergyregulator.gov.au/NGER/Reporting-cycle/Assess-your-obligations/Reporting-thresholds)**:\n",
    "* Corporate group thresholds: The current corporate group threshold is:\n",
    "\n",
    "  * 50 kt or more of greenhouse gases (CO2-e) (scope 1 and scope 2 emissions)\n",
    "  * production of 200 TJ or more of energy, or\n",
    "  * consumption of 200 TJ or more of energy.\n",
    "  \n",
    "For more info about Scope 1 & 2 emissions, see [here](http://www.cleanenergyregulator.gov.au/NGER/About-the-National-Greenhouse-and-Energy-Reporting-scheme/Greenhouse-gases-and-energy#n2)."
   ]
  },
  {
   "cell_type": "markdown",
   "id": "063f6408",
   "metadata": {},
   "source": [
    "# Data Preprocessing"
   ]
  },
  {
   "cell_type": "markdown",
   "id": "4994fa5d",
   "metadata": {},
   "source": [
    "The data below is the information reported to the Clean Energy Regulator (the agency) by controlling corporations and reporting transfer certificate holders that met a reporting threshold under the National Greenhouse and Energy Reporting (NGER) scheme in 2019–20. More details can be found [here](http://www.cleanenergyregulator.gov.au/NGER/National%20greenhouse%20and%20energy%20reporting%20data/Corporate%20emissions%20and%20energy%20data/corporate-emissions-and-energy-data-2019-20)."
   ]
  },
  {
   "cell_type": "code",
   "execution_count": 4,
   "id": "5e58ad3b",
   "metadata": {},
   "outputs": [],
   "source": [
    "nger_1920 = pd.read_csv('19-20.csv', thousands=r',')"
   ]
  },
  {
   "cell_type": "code",
   "execution_count": 5,
   "id": "52c66be9",
   "metadata": {},
   "outputs": [
    {
     "data": {
      "text/html": [
       "<div>\n",
       "<style scoped>\n",
       "    .dataframe tbody tr th:only-of-type {\n",
       "        vertical-align: middle;\n",
       "    }\n",
       "\n",
       "    .dataframe tbody tr th {\n",
       "        vertical-align: top;\n",
       "    }\n",
       "\n",
       "    .dataframe thead th {\n",
       "        text-align: right;\n",
       "    }\n",
       "</style>\n",
       "<table border=\"1\" class=\"dataframe\">\n",
       "  <thead>\n",
       "    <tr style=\"text-align: right;\">\n",
       "      <th></th>\n",
       "      <th>Organisation name</th>\n",
       "      <th>Identifying details</th>\n",
       "      <th>Total scope 1 emissions (t CO2-e)</th>\n",
       "      <th>Total scope 2 emissions (t CO2-e)</th>\n",
       "      <th>Net energy consumed (GJ)</th>\n",
       "      <th>Important notes</th>\n",
       "    </tr>\n",
       "  </thead>\n",
       "  <tbody>\n",
       "    <tr>\n",
       "      <th>0</th>\n",
       "      <td>AGL ENERGY LIMITED</td>\n",
       "      <td>74 115 061 375</td>\n",
       "      <td>42227180</td>\n",
       "      <td>512404</td>\n",
       "      <td>327755307</td>\n",
       "      <td>-</td>\n",
       "    </tr>\n",
       "    <tr>\n",
       "      <th>1</th>\n",
       "      <td>ENERGYAUSTRALIA HOLDINGS LIMITED</td>\n",
       "      <td>57 101 876 135</td>\n",
       "      <td>17935957</td>\n",
       "      <td>229029</td>\n",
       "      <td>147473227</td>\n",
       "      <td>-</td>\n",
       "    </tr>\n",
       "    <tr>\n",
       "      <th>2</th>\n",
       "      <td>STANWELL CORPORATION LIMITED</td>\n",
       "      <td>37 078 848 674</td>\n",
       "      <td>17126943</td>\n",
       "      <td>64484</td>\n",
       "      <td>126966249</td>\n",
       "      <td>-</td>\n",
       "    </tr>\n",
       "    <tr>\n",
       "      <th>3</th>\n",
       "      <td>ORIGIN ENERGY LIMITED</td>\n",
       "      <td>30 000 051 696</td>\n",
       "      <td>15997984</td>\n",
       "      <td>2402842</td>\n",
       "      <td>143163928</td>\n",
       "      <td>-</td>\n",
       "    </tr>\n",
       "    <tr>\n",
       "      <th>4</th>\n",
       "      <td>C S ENERGY LIMITED</td>\n",
       "      <td>54 078 848 745</td>\n",
       "      <td>13199922</td>\n",
       "      <td>127393</td>\n",
       "      <td>91862108</td>\n",
       "      <td>Please note that where more than one person ha...</td>\n",
       "    </tr>\n",
       "    <tr>\n",
       "      <th>...</th>\n",
       "      <td>...</td>\n",
       "      <td>...</td>\n",
       "      <td>...</td>\n",
       "      <td>...</td>\n",
       "      <td>...</td>\n",
       "      <td>...</td>\n",
       "    </tr>\n",
       "    <tr>\n",
       "      <th>410</th>\n",
       "      <td>MCDONALD'S AUSTRALIA LIMITED</td>\n",
       "      <td>43 008 496 928</td>\n",
       "      <td>232</td>\n",
       "      <td>79024</td>\n",
       "      <td>349138</td>\n",
       "      <td>-</td>\n",
       "    </tr>\n",
       "    <tr>\n",
       "      <th>411</th>\n",
       "      <td>AIRTRUNK AUSTRALIA HOLDING PTY LTD</td>\n",
       "      <td>50 616 379 232</td>\n",
       "      <td>132</td>\n",
       "      <td>94528</td>\n",
       "      <td>397923</td>\n",
       "      <td>-</td>\n",
       "    </tr>\n",
       "    <tr>\n",
       "      <th>412</th>\n",
       "      <td>DIGITAL AUSTRALIA INVESTMENT MANAGEMENT PTY LI...</td>\n",
       "      <td>27 150 294 134</td>\n",
       "      <td>98</td>\n",
       "      <td>52544</td>\n",
       "      <td>215987</td>\n",
       "      <td>-</td>\n",
       "    </tr>\n",
       "    <tr>\n",
       "      <th>413</th>\n",
       "      <td>GLOBAL SWITCH AUSTRALIA PTY LIMITED</td>\n",
       "      <td>65 094 338 333</td>\n",
       "      <td>92</td>\n",
       "      <td>137617</td>\n",
       "      <td>612953</td>\n",
       "      <td>-</td>\n",
       "    </tr>\n",
       "    <tr>\n",
       "      <th>414</th>\n",
       "      <td>LYONDELLBASELL AUSTRALIA (HOLDINGS) PTY LTD</td>\n",
       "      <td>74 066 270 237</td>\n",
       "      <td>2</td>\n",
       "      <td>64392</td>\n",
       "      <td>63913</td>\n",
       "      <td>-</td>\n",
       "    </tr>\n",
       "  </tbody>\n",
       "</table>\n",
       "<p>415 rows × 6 columns</p>\n",
       "</div>"
      ],
      "text/plain": [
       "                                     Organisation name Identifying details  \\\n",
       "0                                   AGL ENERGY LIMITED      74 115 061 375   \n",
       "1                     ENERGYAUSTRALIA HOLDINGS LIMITED      57 101 876 135   \n",
       "2                         STANWELL CORPORATION LIMITED      37 078 848 674   \n",
       "3                                ORIGIN ENERGY LIMITED      30 000 051 696   \n",
       "4                                   C S ENERGY LIMITED      54 078 848 745   \n",
       "..                                                 ...                 ...   \n",
       "410                       MCDONALD'S AUSTRALIA LIMITED      43 008 496 928   \n",
       "411                 AIRTRUNK AUSTRALIA HOLDING PTY LTD      50 616 379 232   \n",
       "412  DIGITAL AUSTRALIA INVESTMENT MANAGEMENT PTY LI...      27 150 294 134   \n",
       "413                GLOBAL SWITCH AUSTRALIA PTY LIMITED      65 094 338 333   \n",
       "414        LYONDELLBASELL AUSTRALIA (HOLDINGS) PTY LTD      74 066 270 237   \n",
       "\n",
       "     Total scope 1 emissions (t CO2-e)  Total scope 2 emissions (t CO2-e)  \\\n",
       "0                             42227180                             512404   \n",
       "1                             17935957                             229029   \n",
       "2                             17126943                              64484   \n",
       "3                             15997984                            2402842   \n",
       "4                             13199922                             127393   \n",
       "..                                 ...                                ...   \n",
       "410                                232                              79024   \n",
       "411                                132                              94528   \n",
       "412                                 98                              52544   \n",
       "413                                 92                             137617   \n",
       "414                                  2                              64392   \n",
       "\n",
       "     Net energy consumed (GJ)  \\\n",
       "0                   327755307   \n",
       "1                   147473227   \n",
       "2                   126966249   \n",
       "3                   143163928   \n",
       "4                    91862108   \n",
       "..                        ...   \n",
       "410                    349138   \n",
       "411                    397923   \n",
       "412                    215987   \n",
       "413                    612953   \n",
       "414                     63913   \n",
       "\n",
       "                                       Important notes  \n",
       "0                                                    -  \n",
       "1                                                    -  \n",
       "2                                                    -  \n",
       "3                                                    -  \n",
       "4    Please note that where more than one person ha...  \n",
       "..                                                 ...  \n",
       "410                                                  -  \n",
       "411                                                  -  \n",
       "412                                                  -  \n",
       "413                                                  -  \n",
       "414                                                  -  \n",
       "\n",
       "[415 rows x 6 columns]"
      ]
     },
     "execution_count": 5,
     "metadata": {},
     "output_type": "execute_result"
    }
   ],
   "source": [
    "nger_1920"
   ]
  },
  {
   "cell_type": "markdown",
   "id": "c986605e",
   "metadata": {},
   "source": [
    "Remove & rename some columns."
   ]
  },
  {
   "cell_type": "code",
   "execution_count": 6,
   "id": "798a80de",
   "metadata": {},
   "outputs": [],
   "source": [
    "nger_1920.drop(labels=['Important notes'], axis=1, inplace=True)\n",
    "nger_1920 = nger_1920.rename({\n",
    "    'Total scope 1 emissions (t CO2-e)': 'Scope 1 (tCO2-e)',\n",
    "    'Total scope 2 emissions (t CO2-e)': 'Scope 2 (tCO2-e)',\n",
    "}, axis='columns')"
   ]
  },
  {
   "cell_type": "markdown",
   "id": "21248799",
   "metadata": {},
   "source": [
    "Create a new column `Scope 1 + 2 (tCO2-e)` for combined scope 1 & 2 emissions."
   ]
  },
  {
   "cell_type": "code",
   "execution_count": 7,
   "id": "ab60f2a0",
   "metadata": {},
   "outputs": [],
   "source": [
    "nger_1920['Scope 1 + 2 (tCO2-e)'] = nger_1920['Scope 1 (tCO2-e)'] + nger_1920['Scope 2 (tCO2-e)']"
   ]
  },
  {
   "cell_type": "markdown",
   "id": "1c2f99d9",
   "metadata": {},
   "source": [
    "# Analysis"
   ]
  },
  {
   "cell_type": "code",
   "execution_count": 8,
   "id": "65240696",
   "metadata": {},
   "outputs": [
    {
     "data": {
      "text/html": [
       "<div>\n",
       "<style scoped>\n",
       "    .dataframe tbody tr th:only-of-type {\n",
       "        vertical-align: middle;\n",
       "    }\n",
       "\n",
       "    .dataframe tbody tr th {\n",
       "        vertical-align: top;\n",
       "    }\n",
       "\n",
       "    .dataframe thead th {\n",
       "        text-align: right;\n",
       "    }\n",
       "</style>\n",
       "<table border=\"1\" class=\"dataframe\">\n",
       "  <thead>\n",
       "    <tr style=\"text-align: right;\">\n",
       "      <th></th>\n",
       "      <th>Organisation name</th>\n",
       "      <th>Identifying details</th>\n",
       "      <th>Scope 1 (tCO2-e)</th>\n",
       "      <th>Scope 2 (tCO2-e)</th>\n",
       "      <th>Net energy consumed (GJ)</th>\n",
       "      <th>Scope 1 + 2 (tCO2-e)</th>\n",
       "    </tr>\n",
       "  </thead>\n",
       "  <tbody>\n",
       "    <tr>\n",
       "      <th>0</th>\n",
       "      <td>AGL ENERGY LIMITED</td>\n",
       "      <td>74 115 061 375</td>\n",
       "      <td>42227180</td>\n",
       "      <td>512404</td>\n",
       "      <td>327755307</td>\n",
       "      <td>42739584</td>\n",
       "    </tr>\n",
       "    <tr>\n",
       "      <th>1</th>\n",
       "      <td>ENERGYAUSTRALIA HOLDINGS LIMITED</td>\n",
       "      <td>57 101 876 135</td>\n",
       "      <td>17935957</td>\n",
       "      <td>229029</td>\n",
       "      <td>147473227</td>\n",
       "      <td>18164986</td>\n",
       "    </tr>\n",
       "    <tr>\n",
       "      <th>2</th>\n",
       "      <td>STANWELL CORPORATION LIMITED</td>\n",
       "      <td>37 078 848 674</td>\n",
       "      <td>17126943</td>\n",
       "      <td>64484</td>\n",
       "      <td>126966249</td>\n",
       "      <td>17191427</td>\n",
       "    </tr>\n",
       "    <tr>\n",
       "      <th>3</th>\n",
       "      <td>ORIGIN ENERGY LIMITED</td>\n",
       "      <td>30 000 051 696</td>\n",
       "      <td>15997984</td>\n",
       "      <td>2402842</td>\n",
       "      <td>143163928</td>\n",
       "      <td>18400826</td>\n",
       "    </tr>\n",
       "    <tr>\n",
       "      <th>4</th>\n",
       "      <td>C S ENERGY LIMITED</td>\n",
       "      <td>54 078 848 745</td>\n",
       "      <td>13199922</td>\n",
       "      <td>127393</td>\n",
       "      <td>91862108</td>\n",
       "      <td>13327315</td>\n",
       "    </tr>\n",
       "    <tr>\n",
       "      <th>...</th>\n",
       "      <td>...</td>\n",
       "      <td>...</td>\n",
       "      <td>...</td>\n",
       "      <td>...</td>\n",
       "      <td>...</td>\n",
       "      <td>...</td>\n",
       "    </tr>\n",
       "    <tr>\n",
       "      <th>410</th>\n",
       "      <td>MCDONALD'S AUSTRALIA LIMITED</td>\n",
       "      <td>43 008 496 928</td>\n",
       "      <td>232</td>\n",
       "      <td>79024</td>\n",
       "      <td>349138</td>\n",
       "      <td>79256</td>\n",
       "    </tr>\n",
       "    <tr>\n",
       "      <th>411</th>\n",
       "      <td>AIRTRUNK AUSTRALIA HOLDING PTY LTD</td>\n",
       "      <td>50 616 379 232</td>\n",
       "      <td>132</td>\n",
       "      <td>94528</td>\n",
       "      <td>397923</td>\n",
       "      <td>94660</td>\n",
       "    </tr>\n",
       "    <tr>\n",
       "      <th>412</th>\n",
       "      <td>DIGITAL AUSTRALIA INVESTMENT MANAGEMENT PTY LI...</td>\n",
       "      <td>27 150 294 134</td>\n",
       "      <td>98</td>\n",
       "      <td>52544</td>\n",
       "      <td>215987</td>\n",
       "      <td>52642</td>\n",
       "    </tr>\n",
       "    <tr>\n",
       "      <th>413</th>\n",
       "      <td>GLOBAL SWITCH AUSTRALIA PTY LIMITED</td>\n",
       "      <td>65 094 338 333</td>\n",
       "      <td>92</td>\n",
       "      <td>137617</td>\n",
       "      <td>612953</td>\n",
       "      <td>137709</td>\n",
       "    </tr>\n",
       "    <tr>\n",
       "      <th>414</th>\n",
       "      <td>LYONDELLBASELL AUSTRALIA (HOLDINGS) PTY LTD</td>\n",
       "      <td>74 066 270 237</td>\n",
       "      <td>2</td>\n",
       "      <td>64392</td>\n",
       "      <td>63913</td>\n",
       "      <td>64394</td>\n",
       "    </tr>\n",
       "  </tbody>\n",
       "</table>\n",
       "<p>415 rows × 6 columns</p>\n",
       "</div>"
      ],
      "text/plain": [
       "                                     Organisation name Identifying details  \\\n",
       "0                                   AGL ENERGY LIMITED      74 115 061 375   \n",
       "1                     ENERGYAUSTRALIA HOLDINGS LIMITED      57 101 876 135   \n",
       "2                         STANWELL CORPORATION LIMITED      37 078 848 674   \n",
       "3                                ORIGIN ENERGY LIMITED      30 000 051 696   \n",
       "4                                   C S ENERGY LIMITED      54 078 848 745   \n",
       "..                                                 ...                 ...   \n",
       "410                       MCDONALD'S AUSTRALIA LIMITED      43 008 496 928   \n",
       "411                 AIRTRUNK AUSTRALIA HOLDING PTY LTD      50 616 379 232   \n",
       "412  DIGITAL AUSTRALIA INVESTMENT MANAGEMENT PTY LI...      27 150 294 134   \n",
       "413                GLOBAL SWITCH AUSTRALIA PTY LIMITED      65 094 338 333   \n",
       "414        LYONDELLBASELL AUSTRALIA (HOLDINGS) PTY LTD      74 066 270 237   \n",
       "\n",
       "     Scope 1 (tCO2-e)  Scope 2 (tCO2-e)  Net energy consumed (GJ)  \\\n",
       "0            42227180            512404                 327755307   \n",
       "1            17935957            229029                 147473227   \n",
       "2            17126943             64484                 126966249   \n",
       "3            15997984           2402842                 143163928   \n",
       "4            13199922            127393                  91862108   \n",
       "..                ...               ...                       ...   \n",
       "410               232             79024                    349138   \n",
       "411               132             94528                    397923   \n",
       "412                98             52544                    215987   \n",
       "413                92            137617                    612953   \n",
       "414                 2             64392                     63913   \n",
       "\n",
       "     Scope 1 + 2 (tCO2-e)  \n",
       "0                42739584  \n",
       "1                18164986  \n",
       "2                17191427  \n",
       "3                18400826  \n",
       "4                13327315  \n",
       "..                    ...  \n",
       "410                 79256  \n",
       "411                 94660  \n",
       "412                 52642  \n",
       "413                137709  \n",
       "414                 64394  \n",
       "\n",
       "[415 rows x 6 columns]"
      ]
     },
     "execution_count": 8,
     "metadata": {},
     "output_type": "execute_result"
    }
   ],
   "source": [
    "nger_1920"
   ]
  },
  {
   "cell_type": "markdown",
   "id": "2e7de9ae",
   "metadata": {},
   "source": [
    "## Companies crossing the threshold of consuming 200TJ or more energy"
   ]
  },
  {
   "cell_type": "markdown",
   "id": "14b71daa",
   "metadata": {},
   "source": [
    "403/415 companies in the list cross this threshold."
   ]
  },
  {
   "cell_type": "code",
   "execution_count": 11,
   "id": "e14729b9",
   "metadata": {},
   "outputs": [
    {
     "data": {
      "text/plain": [
       "0                                     AGL ENERGY LIMITED\n",
       "1                       ENERGYAUSTRALIA HOLDINGS LIMITED\n",
       "2                           STANWELL CORPORATION LIMITED\n",
       "3                                  ORIGIN ENERGY LIMITED\n",
       "4                                     C S ENERGY LIMITED\n",
       "                             ...                        \n",
       "409                                     JB HI-FI LIMITED\n",
       "410                         MCDONALD'S AUSTRALIA LIMITED\n",
       "411                   AIRTRUNK AUSTRALIA HOLDING PTY LTD\n",
       "412    DIGITAL AUSTRALIA INVESTMENT MANAGEMENT PTY LI...\n",
       "413                  GLOBAL SWITCH AUSTRALIA PTY LIMITED\n",
       "Name: Organisation name, Length: 403, dtype: object"
      ]
     },
     "execution_count": 11,
     "metadata": {},
     "output_type": "execute_result"
    }
   ],
   "source": [
    "nger_1920[nger_1920['Net energy consumed (GJ)'] > 200 * 1000]['Organisation name']"
   ]
  },
  {
   "cell_type": "markdown",
   "id": "c7502a83",
   "metadata": {},
   "source": [
    "## Companies crossing the threshold of having scope 1 + 2 emissions of more than 50 kt CO2-e"
   ]
  },
  {
   "cell_type": "markdown",
   "id": "3d5397f2",
   "metadata": {},
   "source": [
    "415/415 companies in the list also cross this threshold."
   ]
  },
  {
   "cell_type": "code",
   "execution_count": 19,
   "id": "c4b40919",
   "metadata": {},
   "outputs": [
    {
     "data": {
      "text/plain": [
       "0                                     AGL ENERGY LIMITED\n",
       "1                       ENERGYAUSTRALIA HOLDINGS LIMITED\n",
       "2                           STANWELL CORPORATION LIMITED\n",
       "3                                  ORIGIN ENERGY LIMITED\n",
       "4                                     C S ENERGY LIMITED\n",
       "                             ...                        \n",
       "410                         MCDONALD'S AUSTRALIA LIMITED\n",
       "411                   AIRTRUNK AUSTRALIA HOLDING PTY LTD\n",
       "412    DIGITAL AUSTRALIA INVESTMENT MANAGEMENT PTY LI...\n",
       "413                  GLOBAL SWITCH AUSTRALIA PTY LIMITED\n",
       "414          LYONDELLBASELL AUSTRALIA (HOLDINGS) PTY LTD\n",
       "Name: Organisation name, Length: 415, dtype: object"
      ]
     },
     "execution_count": 19,
     "metadata": {},
     "output_type": "execute_result"
    }
   ],
   "source": [
    "nger_1920[nger_1920['Scope 1 + 2 (tCO2-e)'] > 50 * 1000]['Organisation name']"
   ]
  },
  {
   "cell_type": "markdown",
   "id": "8999a899",
   "metadata": {},
   "source": [
    "## Companies crossing the threshold of having SCOPE 2 EMISSIONS ALONE of more than 50 kt CO2-e"
   ]
  },
  {
   "cell_type": "markdown",
   "id": "2dc3b844",
   "metadata": {},
   "source": [
    "I would assume this to be the market of CellEngineer C&I (without considering the overlapping companies in the Utilities market). The reason is that these companies would benefit the most from investing in renewables and battery storage."
   ]
  },
  {
   "cell_type": "code",
   "execution_count": 20,
   "id": "a64f3f5c",
   "metadata": {},
   "outputs": [
    {
     "data": {
      "text/plain": [
       "0                                     AGL ENERGY LIMITED\n",
       "1                       ENERGYAUSTRALIA HOLDINGS LIMITED\n",
       "2                           STANWELL CORPORATION LIMITED\n",
       "3                                  ORIGIN ENERGY LIMITED\n",
       "4                                     C S ENERGY LIMITED\n",
       "                             ...                        \n",
       "410                         MCDONALD'S AUSTRALIA LIMITED\n",
       "411                   AIRTRUNK AUSTRALIA HOLDING PTY LTD\n",
       "412    DIGITAL AUSTRALIA INVESTMENT MANAGEMENT PTY LI...\n",
       "413                  GLOBAL SWITCH AUSTRALIA PTY LIMITED\n",
       "414          LYONDELLBASELL AUSTRALIA (HOLDINGS) PTY LTD\n",
       "Name: Organisation name, Length: 230, dtype: object"
      ]
     },
     "execution_count": 20,
     "metadata": {},
     "output_type": "execute_result"
    }
   ],
   "source": [
    "nger_1920[nger_1920['Scope 2 (tCO2-e)'] > 50 * 1000]['Organisation name']"
   ]
  },
  {
   "cell_type": "markdown",
   "id": "51a083cb",
   "metadata": {},
   "source": [
    "According to the current assumptions, without considering the overlapping companies in the Utilities market, the market for CellEngineer C&I consists of 230 companies."
   ]
  },
  {
   "cell_type": "code",
   "execution_count": 21,
   "id": "56e4524a",
   "metadata": {},
   "outputs": [],
   "source": [
    "ci_market = nger_1920[nger_1920['Scope 2 (tCO2-e)'] > 50 * 1000]"
   ]
  },
  {
   "cell_type": "code",
   "execution_count": 22,
   "id": "53eb976e",
   "metadata": {},
   "outputs": [
    {
     "data": {
      "text/html": [
       "<div>\n",
       "<style scoped>\n",
       "    .dataframe tbody tr th:only-of-type {\n",
       "        vertical-align: middle;\n",
       "    }\n",
       "\n",
       "    .dataframe tbody tr th {\n",
       "        vertical-align: top;\n",
       "    }\n",
       "\n",
       "    .dataframe thead th {\n",
       "        text-align: right;\n",
       "    }\n",
       "</style>\n",
       "<table border=\"1\" class=\"dataframe\">\n",
       "  <thead>\n",
       "    <tr style=\"text-align: right;\">\n",
       "      <th></th>\n",
       "      <th>Organisation name</th>\n",
       "      <th>Identifying details</th>\n",
       "      <th>Scope 1 (tCO2-e)</th>\n",
       "      <th>Scope 2 (tCO2-e)</th>\n",
       "      <th>Net energy consumed (GJ)</th>\n",
       "      <th>Scope 1 + 2 (tCO2-e)</th>\n",
       "    </tr>\n",
       "  </thead>\n",
       "  <tbody>\n",
       "    <tr>\n",
       "      <th>0</th>\n",
       "      <td>AGL ENERGY LIMITED</td>\n",
       "      <td>74 115 061 375</td>\n",
       "      <td>42227180</td>\n",
       "      <td>512404</td>\n",
       "      <td>327755307</td>\n",
       "      <td>42739584</td>\n",
       "    </tr>\n",
       "    <tr>\n",
       "      <th>1</th>\n",
       "      <td>ENERGYAUSTRALIA HOLDINGS LIMITED</td>\n",
       "      <td>57 101 876 135</td>\n",
       "      <td>17935957</td>\n",
       "      <td>229029</td>\n",
       "      <td>147473227</td>\n",
       "      <td>18164986</td>\n",
       "    </tr>\n",
       "    <tr>\n",
       "      <th>2</th>\n",
       "      <td>STANWELL CORPORATION LIMITED</td>\n",
       "      <td>37 078 848 674</td>\n",
       "      <td>17126943</td>\n",
       "      <td>64484</td>\n",
       "      <td>126966249</td>\n",
       "      <td>17191427</td>\n",
       "    </tr>\n",
       "    <tr>\n",
       "      <th>3</th>\n",
       "      <td>ORIGIN ENERGY LIMITED</td>\n",
       "      <td>30 000 051 696</td>\n",
       "      <td>15997984</td>\n",
       "      <td>2402842</td>\n",
       "      <td>143163928</td>\n",
       "      <td>18400826</td>\n",
       "    </tr>\n",
       "    <tr>\n",
       "      <th>4</th>\n",
       "      <td>C S ENERGY LIMITED</td>\n",
       "      <td>54 078 848 745</td>\n",
       "      <td>13199922</td>\n",
       "      <td>127393</td>\n",
       "      <td>91862108</td>\n",
       "      <td>13327315</td>\n",
       "    </tr>\n",
       "    <tr>\n",
       "      <th>...</th>\n",
       "      <td>...</td>\n",
       "      <td>...</td>\n",
       "      <td>...</td>\n",
       "      <td>...</td>\n",
       "      <td>...</td>\n",
       "      <td>...</td>\n",
       "    </tr>\n",
       "    <tr>\n",
       "      <th>410</th>\n",
       "      <td>MCDONALD'S AUSTRALIA LIMITED</td>\n",
       "      <td>43 008 496 928</td>\n",
       "      <td>232</td>\n",
       "      <td>79024</td>\n",
       "      <td>349138</td>\n",
       "      <td>79256</td>\n",
       "    </tr>\n",
       "    <tr>\n",
       "      <th>411</th>\n",
       "      <td>AIRTRUNK AUSTRALIA HOLDING PTY LTD</td>\n",
       "      <td>50 616 379 232</td>\n",
       "      <td>132</td>\n",
       "      <td>94528</td>\n",
       "      <td>397923</td>\n",
       "      <td>94660</td>\n",
       "    </tr>\n",
       "    <tr>\n",
       "      <th>412</th>\n",
       "      <td>DIGITAL AUSTRALIA INVESTMENT MANAGEMENT PTY LI...</td>\n",
       "      <td>27 150 294 134</td>\n",
       "      <td>98</td>\n",
       "      <td>52544</td>\n",
       "      <td>215987</td>\n",
       "      <td>52642</td>\n",
       "    </tr>\n",
       "    <tr>\n",
       "      <th>413</th>\n",
       "      <td>GLOBAL SWITCH AUSTRALIA PTY LIMITED</td>\n",
       "      <td>65 094 338 333</td>\n",
       "      <td>92</td>\n",
       "      <td>137617</td>\n",
       "      <td>612953</td>\n",
       "      <td>137709</td>\n",
       "    </tr>\n",
       "    <tr>\n",
       "      <th>414</th>\n",
       "      <td>LYONDELLBASELL AUSTRALIA (HOLDINGS) PTY LTD</td>\n",
       "      <td>74 066 270 237</td>\n",
       "      <td>2</td>\n",
       "      <td>64392</td>\n",
       "      <td>63913</td>\n",
       "      <td>64394</td>\n",
       "    </tr>\n",
       "  </tbody>\n",
       "</table>\n",
       "<p>230 rows × 6 columns</p>\n",
       "</div>"
      ],
      "text/plain": [
       "                                     Organisation name Identifying details  \\\n",
       "0                                   AGL ENERGY LIMITED      74 115 061 375   \n",
       "1                     ENERGYAUSTRALIA HOLDINGS LIMITED      57 101 876 135   \n",
       "2                         STANWELL CORPORATION LIMITED      37 078 848 674   \n",
       "3                                ORIGIN ENERGY LIMITED      30 000 051 696   \n",
       "4                                   C S ENERGY LIMITED      54 078 848 745   \n",
       "..                                                 ...                 ...   \n",
       "410                       MCDONALD'S AUSTRALIA LIMITED      43 008 496 928   \n",
       "411                 AIRTRUNK AUSTRALIA HOLDING PTY LTD      50 616 379 232   \n",
       "412  DIGITAL AUSTRALIA INVESTMENT MANAGEMENT PTY LI...      27 150 294 134   \n",
       "413                GLOBAL SWITCH AUSTRALIA PTY LIMITED      65 094 338 333   \n",
       "414        LYONDELLBASELL AUSTRALIA (HOLDINGS) PTY LTD      74 066 270 237   \n",
       "\n",
       "     Scope 1 (tCO2-e)  Scope 2 (tCO2-e)  Net energy consumed (GJ)  \\\n",
       "0            42227180            512404                 327755307   \n",
       "1            17935957            229029                 147473227   \n",
       "2            17126943             64484                 126966249   \n",
       "3            15997984           2402842                 143163928   \n",
       "4            13199922            127393                  91862108   \n",
       "..                ...               ...                       ...   \n",
       "410               232             79024                    349138   \n",
       "411               132             94528                    397923   \n",
       "412                98             52544                    215987   \n",
       "413                92            137617                    612953   \n",
       "414                 2             64392                     63913   \n",
       "\n",
       "     Scope 1 + 2 (tCO2-e)  \n",
       "0                42739584  \n",
       "1                18164986  \n",
       "2                17191427  \n",
       "3                18400826  \n",
       "4                13327315  \n",
       "..                    ...  \n",
       "410                 79256  \n",
       "411                 94660  \n",
       "412                 52642  \n",
       "413                137709  \n",
       "414                 64394  \n",
       "\n",
       "[230 rows x 6 columns]"
      ]
     },
     "execution_count": 22,
     "metadata": {},
     "output_type": "execute_result"
    }
   ],
   "source": [
    "ci_market"
   ]
  },
  {
   "cell_type": "markdown",
   "id": "860d4732",
   "metadata": {},
   "source": [
    "## Standard vs Enterprise Subscriptions"
   ]
  },
  {
   "cell_type": "markdown",
   "id": "7738a320",
   "metadata": {},
   "source": [
    "To investigate which companies would be more interested in one type of subscription than the other, we can have a look at the distribution of scope 2 emissions."
   ]
  },
  {
   "cell_type": "code",
   "execution_count": 23,
   "id": "a6a4ffa9",
   "metadata": {},
   "outputs": [],
   "source": [
    "scope2 = nger_1920['Scope 2 (tCO2-e)']"
   ]
  },
  {
   "cell_type": "code",
   "execution_count": 24,
   "id": "985b4cc4",
   "metadata": {},
   "outputs": [],
   "source": [
    "scope2 = scope2.sort_values(ascending=False)"
   ]
  },
  {
   "cell_type": "code",
   "execution_count": 26,
   "id": "b25bc012",
   "metadata": {},
   "outputs": [
    {
     "data": {
      "text/plain": [
       "<matplotlib.legend.Legend at 0x7fac8d149bb0>"
      ]
     },
     "execution_count": 26,
     "metadata": {},
     "output_type": "execute_result"
    },
    {
     "data": {
      "image/png": "[encoded data removed]",
      "text/plain": [
       "<Figure size 720x576 with 2 Axes>"
      ]
     },
     "metadata": {
      "needs_background": "light"
     },
     "output_type": "display_data"
    }
   ],
   "source": [
    "top = 100\n",
    "portion = scope2[:top]\n",
    "\n",
    "fig = plt.figure(figsize=(10, 8))\n",
    "\n",
    "axes1 = fig.add_axes([0, 0, 1, 1])\n",
    "axes1.plot(np.arange(len(scope2)), scope2)\n",
    "axes1.plot(np.arange(len(scope2)), [50*1000] * len(scope2))\n",
    "axes1.legend(['Scope 2 emissions', '50kt threshold'])\n",
    "axes1.set_xlabel('Company indices from highest to lowest in scope 2 emissions')\n",
    "axes1.set_ylabel('t CO2-e')\n",
    "axes1.title.set_text('All companies')\n",
    "\n",
    "axes2 = fig.add_axes([0.3, 0.3, 0.5, 0.4]) # left, bottom, width, height\n",
    "axes2.title.set_text(f'First {top} companies')\n",
    "axes2.plot(np.arange(len(portion)), portion)\n",
    "axes2.plot(np.arange(len(portion)), [50*1000] * len(portion))\n",
    "axes1.set_xlabel('Ranking of companies from highest to lowest in scope 2 emissions')\n",
    "axes1.set_ylabel('t CO2-e')\n",
    "axes2.legend(['Scope 2 emissions', '50kt threshold'])"
   ]
  },
  {
   "cell_type": "markdown",
   "id": "59b24d2c",
   "metadata": {},
   "source": [
    "From the plot, we can see that there is a large discrepancy in the scope 2 emissions between the top 30-50 companies and the rest. We would assume that the top 50 companies would most likely be interested in Enterprise subscriptions, while the rest of the companies would be inclined to choose the Standard subscriptions."
   ]
  }
 ],
 "metadata": {
  "kernelspec": {
   "display_name": "Python 3",
   "language": "python",
   "name": "python3"
  },
  "language_info": {
   "codemirror_mode": {
    "name": "ipython",
    "version": 3
   },
   "file_extension": ".py",
   "mimetype": "text/x-python",
   "name": "python",
   "nbconvert_exporter": "python",
   "pygments_lexer": "ipython3",
   "version": "3.9.6"
  }
 },
 "nbformat": 4,
 "nbformat_minor": 5
}
